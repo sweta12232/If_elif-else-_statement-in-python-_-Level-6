{
 "cells": [
  {
   "cell_type": "markdown",
   "id": "b7c39c2b",
   "metadata": {},
   "source": [
    "# Understanding If Statements and Logical Operations"
   ]
  },
  {
   "cell_type": "markdown",
   "id": "cba2762a",
   "metadata": {},
   "source": [
    "  1.Conditions in Python evaluate expressions to determine if they are true or false."
   ]
  },
  {
   "cell_type": "markdown",
   "id": "0d703bad",
   "metadata": {},
   "source": [
    "2. The if statement is fundamental for executing code based on a condition being true."
   ]
  },
  {
   "cell_type": "markdown",
   "id": "7b6cf809",
   "metadata": {},
   "source": [
    "3. Python supports various comparison operators\n",
    "* Equals: a == b\n",
    "* Not Equals: a != b\n",
    "* Less than: a < b\n",
    "* Less than or equal to: a <= b\n",
    "* Greater than: a > b\n",
    "* Greater than or equal to: a >= b"
   ]
  },
  {
   "cell_type": "markdown",
   "id": "781f3e61",
   "metadata": {},
   "source": [
    "# Logical operators  \n",
    "## and operator (symbol: and)\n",
    "* True and True = True\n",
    "* True and False = False\n",
    "* False and True = False\n",
    "* False and False = False\n",
    "\n",
    "## or operator (symbol: or)\n",
    "* True or True = True\n",
    "* True or False = True\n",
    "* False or True = True\n",
    "* False or False = False\n",
    "\n",
    "## not operator (symbol: not)\n",
    "* not True = False\n",
    "* not False = True"
   ]
  },
  {
   "cell_type": "code",
   "execution_count": 4,
   "id": "76454472",
   "metadata": {},
   "outputs": [
    {
     "name": "stdout",
     "output_type": "stream",
     "text": [
      "a is less than b\n"
     ]
    }
   ],
   "source": [
    "a = 12\n",
    "b = 16\n",
    "if a < b:\n",
    "    print(\"a is less than b\")\n"
   ]
  },
  {
   "cell_type": "code",
   "execution_count": 5,
   "id": "25314127",
   "metadata": {},
   "outputs": [
    {
     "name": "stdout",
     "output_type": "stream",
     "text": [
      "b is greater than a\n"
     ]
    }
   ],
   "source": [
    "a = 12\n",
    "b = 16\n",
    "if a > b:\n",
    "    print(\"a is greater than b\")\n",
    "else:\n",
    "    print(\"b is greater than a\")"
   ]
  },
  {
   "cell_type": "code",
   "execution_count": 6,
   "id": "74315268",
   "metadata": {},
   "outputs": [
    {
     "name": "stdout",
     "output_type": "stream",
     "text": [
      "a is greater than b\n"
     ]
    }
   ],
   "source": [
    "a = 12\n",
    "b = 10\n",
    "if a< b:\n",
    "    print(\"b is greater than a\")\n",
    "elif a== b:\n",
    "    print(\"b is greater than a\")\n",
    "else:\n",
    "    print(\"a is greater than b\")"
   ]
  },
  {
   "cell_type": "markdown",
   "id": "6dfb5655",
   "metadata": {},
   "source": [
    "## AND"
   ]
  },
  {
   "cell_type": "code",
   "execution_count": 9,
   "id": "8fa4ea32",
   "metadata": {},
   "outputs": [
    {
     "name": "stdout",
     "output_type": "stream",
     "text": [
      "Both of the given conditions are True\n"
     ]
    }
   ],
   "source": [
    "a = 10\n",
    "b = 10\n",
    "c = 10\n",
    "if a == b and c == b:\n",
    "    print(\"Both of the given conditions are True\")"
   ]
  },
  {
   "cell_type": "markdown",
   "id": "ed576ee6",
   "metadata": {},
   "source": [
    "## OR"
   ]
  },
  {
   "cell_type": "code",
   "execution_count": 10,
   "id": "898b3870",
   "metadata": {},
   "outputs": [
    {
     "name": "stdout",
     "output_type": "stream",
     "text": [
      "One of the given conditions are True\n"
     ]
    }
   ],
   "source": [
    "a = 10\n",
    "b = 10\n",
    "c = 13\n",
    "if a == b or c == b:\n",
    "    print(\"One of the given conditions are True\")"
   ]
  },
  {
   "cell_type": "code",
   "execution_count": 11,
   "id": "f4c2a2ae",
   "metadata": {},
   "outputs": [
    {
     "name": "stdout",
     "output_type": "stream",
     "text": [
      "a is NOT greater than b\n"
     ]
    }
   ],
   "source": [
    "a = 10\n",
    "b = 50\n",
    "if not a > b:\n",
    "    print(\"a is NOT greater than b\")"
   ]
  },
  {
   "cell_type": "code",
   "execution_count": null,
   "id": "d981dee4",
   "metadata": {},
   "outputs": [],
   "source": []
  }
 ],
 "metadata": {
  "kernelspec": {
   "display_name": "Python 3 (ipykernel)",
   "language": "python",
   "name": "python3"
  },
  "language_info": {
   "codemirror_mode": {
    "name": "ipython",
    "version": 3
   },
   "file_extension": ".py",
   "mimetype": "text/x-python",
   "name": "python",
   "nbconvert_exporter": "python",
   "pygments_lexer": "ipython3",
   "version": "3.9.12"
  }
 },
 "nbformat": 4,
 "nbformat_minor": 5
}
